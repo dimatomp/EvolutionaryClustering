{
 "cells": [
  {
   "cell_type": "code",
   "execution_count": 41,
   "metadata": {},
   "outputs": [],
   "source": [
    "from analyze_csv import *\n",
    "import numpy as np\n",
    "import pandas as pd"
   ]
  },
  {
   "cell_type": "code",
   "execution_count": 2,
   "metadata": {},
   "outputs": [
    {
     "name": "stdout",
     "output_type": "stream",
     "text": [
      "generalized_dunn_43-generated_2dim_30cl-one_plus_lambda_all_moves.txt\n",
      "generalized_dunn_13-liver_disorders-one_plus_lambda_all_moves.txt\n",
      "calinski_harabaz-generated_10dim_30cl-one_plus_lambda_all_moves.txt\n",
      "generalized_dunn_53-generated_2dim_10cl-one_plus_lambda_all_moves.txt\n",
      "generalized_dunn_41-glass-one_plus_lambda_all_moves.txt\n",
      "generalized_dunn_13-generated_2dim_30cl-one_plus_lambda_all_moves.txt\n",
      "dunn-oil_spill-one_plus_lambda_all_moves.txt\n",
      "generalized_dunn_51-vehicle-one_plus_lambda_all_moves.txt\n",
      "generalized_dunn_13-generated_10dim_10cl-one_plus_lambda_all_moves.txt\n",
      "generalized_dunn_41-generated_2dim_10cl-one_plus_lambda_all_moves.txt\n",
      "generalized_dunn_41-user_knowledge-one_plus_lambda_all_moves.txt\n",
      "generalized_dunn_13-oil_spill-one_plus_lambda_all_moves.txt\n",
      "dunn-heart_statlog-one_plus_lambda_all_moves.txt\n",
      "davies_bouldin-oil_spill-one_plus_lambda_all_moves.txt\n",
      "generalized_dunn_51-glass-one_plus_lambda_all_moves.txt\n",
      "dunn-generated_10dim_30cl-one_plus_lambda_all_moves.txt\n",
      "generalized_dunn_51-heart_statlog-one_plus_lambda_all_moves.txt\n",
      "calinski_harabaz-generated_2dim_30cl-one_plus_lambda_all_moves.txt\n",
      "generalized_dunn_53-generated_2dim_30cl-one_plus_lambda_all_moves.txt\n",
      "silhouette-glass-one_plus_lambda_all_moves.txt\n",
      "dunn-mfeat_morphological-one_plus_lambda_all_moves.txt\n",
      "generalized_dunn_53-iris-one_plus_lambda_all_moves.txt\n",
      "silhouette-heart_statlog-one_plus_lambda_all_moves.txt\n",
      "silhouette-vehicle-one_plus_lambda_all_moves.txt\n",
      "dvcb_2-haberman-one_plus_lambda_all_moves.txt\n",
      "generalized_dunn_41-mfeat_morphological-one_plus_lambda_all_moves.txt\n",
      "calinski_harabaz-glass-one_plus_lambda_all_moves.txt\n",
      "davies_bouldin-generated_10dim_30cl-one_plus_lambda_all_moves.txt\n",
      "davies_bouldin-glass-one_plus_lambda_all_moves.txt\n",
      "dvcb_2-user_knowledge-one_plus_lambda_all_moves.txt\n",
      "dvcb_2-generated_2dim_10cl-one_plus_lambda_all_moves.txt\n",
      "dunn-generated_2dim_10cl-one_plus_lambda_all_moves.txt\n",
      "generalized_dunn_53-glass-one_plus_lambda_all_moves.txt\n",
      "generalized_dunn_53-oil_spill-one_plus_lambda_all_moves.txt\n",
      "dunn-liver_disorders-one_plus_lambda_all_moves.txt\n",
      "dunn-vehicle-one_plus_lambda_all_moves.txt\n",
      "calinski_harabaz-haberman-one_plus_lambda_all_moves.txt\n",
      "generalized_dunn_13-immunotherapy-one_plus_lambda_all_moves.txt\n",
      "davies_bouldin-generated_2dim_30cl-one_plus_lambda_all_moves.txt\n",
      "generalized_dunn_51-oil_spill-one_plus_lambda_all_moves.txt\n",
      "dunn-glass-one_plus_lambda_all_moves.txt\n",
      "generalized_dunn_51-iris-one_plus_lambda_all_moves.txt\n",
      "davies_bouldin-heart_statlog-one_plus_lambda_all_moves.txt\n",
      "silhouette-immunotherapy-one_plus_lambda_all_moves.txt\n",
      "calinski_harabaz-user_knowledge-one_plus_lambda_all_moves.txt\n",
      "generalized_dunn_13-generated_10dim_30cl-one_plus_lambda_all_moves.txt\n",
      "dunn-generated_10dim_10cl-one_plus_lambda_all_moves.txt\n",
      "generalized_dunn_13-glass-one_plus_lambda_all_moves.txt\n",
      "dunn-immunotherapy-one_plus_lambda_all_moves.txt\n",
      "dvcb_2-iris-one_plus_lambda_all_moves.txt\n",
      "generalized_dunn_43-generated_10dim_10cl-one_plus_lambda_all_moves.txt\n",
      "generalized_dunn_43-haberman-one_plus_lambda_all_moves.txt\n",
      "dvcb_2-generated_10dim_10cl-one_plus_lambda_all_moves.txt\n",
      "dunn-generated_2dim_30cl-one_plus_lambda_all_moves.txt\n",
      "generalized_dunn_41-generated_10dim_10cl-one_plus_lambda_all_moves.txt\n",
      "generalized_dunn_51-user_knowledge-one_plus_lambda_all_moves.txt\n",
      "generalized_dunn_13-user_knowledge-one_plus_lambda_all_moves.txt\n",
      "silhouette-liver_disorders-one_plus_lambda_all_moves.txt\n",
      "dunn-user_knowledge-one_plus_lambda_all_moves.txt\n",
      "generalized_dunn_43-heart_statlog-one_plus_lambda_all_moves.txt\n",
      "dvcb_2-vehicle-one_plus_lambda_all_moves.txt\n",
      "generalized_dunn_53-user_knowledge-one_plus_lambda_all_moves.txt\n",
      "generalized_dunn_43-immunotherapy-one_plus_lambda_all_moves.txt\n",
      "davies_bouldin-iris-one_plus_lambda_all_moves.txt\n",
      "generalized_dunn_51-haberman-one_plus_lambda_all_moves.txt\n",
      "calinski_harabaz-mfeat_morphological-one_plus_lambda_all_moves.txt\n",
      "generalized_dunn_41-iris-one_plus_lambda_all_moves.txt\n",
      "silhouette-iris-one_plus_lambda_all_moves.txt\n",
      "davies_bouldin-haberman-one_plus_lambda_all_moves.txt\n",
      "davies_bouldin-liver_disorders-one_plus_lambda_all_moves.txt\n",
      "generalized_dunn_53-mfeat_morphological-one_plus_lambda_all_moves.txt\n",
      "dvcb_2-immunotherapy-one_plus_lambda_all_moves.txt\n",
      "silhouette-oil_spill-one_plus_lambda_all_moves.txt\n",
      "dvcb_2-liver_disorders-one_plus_lambda_all_moves.txt\n",
      "calinski_harabaz-heart_statlog-one_plus_lambda_all_moves.txt\n",
      "generalized_dunn_43-generated_2dim_10cl-one_plus_lambda_all_moves.txt\n",
      "generalized_dunn_43-mfeat_morphological-one_plus_lambda_all_moves.txt\n",
      "silhouette-user_knowledge-one_plus_lambda_all_moves.txt\n",
      "calinski_harabaz-liver_disorders-one_plus_lambda_all_moves.txt\n",
      "generalized_dunn_51-generated_2dim_10cl-one_plus_lambda_all_moves.txt\n",
      "silhouette-generated_10dim_30cl-one_plus_lambda_all_moves.txt\n",
      "generalized_dunn_43-generated_10dim_30cl-one_plus_lambda_all_moves.txt\n",
      "generalized_dunn_41-generated_2dim_30cl-one_plus_lambda_all_moves.txt\n",
      "calinski_harabaz-oil_spill-one_plus_lambda_all_moves.txt\n",
      "silhouette-haberman-one_plus_lambda_all_moves.txt\n",
      "generalized_dunn_13-vehicle-one_plus_lambda_all_moves.txt\n",
      "silhouette-generated_2dim_30cl-one_plus_lambda_all_moves.txt\n",
      "generalized_dunn_41-oil_spill-one_plus_lambda_all_moves.txt\n",
      "generalized_dunn_51-generated_10dim_10cl-one_plus_lambda_all_moves.txt\n",
      "dvcb_2-heart_statlog-one_plus_lambda_all_moves.txt\n",
      "generalized_dunn_43-iris-one_plus_lambda_all_moves.txt\n",
      "generalized_dunn_51-liver_disorders-one_plus_lambda_all_moves.txt\n",
      "generalized_dunn_41-generated_10dim_30cl-one_plus_lambda_all_moves.txt\n",
      "calinski_harabaz-generated_2dim_10cl-one_plus_lambda_all_moves.txt\n",
      "generalized_dunn_13-iris-one_plus_lambda_all_moves.txt\n",
      "generalized_dunn_41-liver_disorders-one_plus_lambda_all_moves.txt\n",
      "dvcb_2-oil_spill-one_plus_lambda_all_moves.txt\n",
      "generalized_dunn_41-heart_statlog-one_plus_lambda_all_moves.txt\n",
      "dunn-iris-one_plus_lambda_all_moves.txt\n",
      "generalized_dunn_53-immunotherapy-one_plus_lambda_all_moves.txt\n",
      "generalized_dunn_41-vehicle-one_plus_lambda_all_moves.txt\n",
      "generalized_dunn_53-generated_10dim_30cl-one_plus_lambda_all_moves.txt\n",
      "silhouette-mfeat_morphological-one_plus_lambda_all_moves.txt\n",
      "generalized_dunn_43-liver_disorders-one_plus_lambda_all_moves.txt\n",
      "generalized_dunn_41-immunotherapy-one_plus_lambda_all_moves.txt\n",
      "davies_bouldin-mfeat_morphological-one_plus_lambda_all_moves.txt\n",
      "generalized_dunn_51-mfeat_morphological-one_plus_lambda_all_moves.txt\n",
      "generalized_dunn_43-user_knowledge-one_plus_lambda_all_moves.txt\n",
      "generalized_dunn_41-haberman-one_plus_lambda_all_moves.txt\n",
      "silhouette-generated_10dim_10cl-one_plus_lambda_all_moves.txt\n",
      "generalized_dunn_13-haberman-one_plus_lambda_all_moves.txt\n",
      "calinski_harabaz-vehicle-one_plus_lambda_all_moves.txt\n",
      "generalized_dunn_53-liver_disorders-one_plus_lambda_all_moves.txt\n",
      "dvcb_2-glass-one_plus_lambda_all_moves.txt\n",
      "davies_bouldin-immunotherapy-one_plus_lambda_all_moves.txt\n",
      "generalized_dunn_53-generated_10dim_10cl-one_plus_lambda_all_moves.txt\n",
      "silhouette-generated_2dim_10cl-one_plus_lambda_all_moves.txt\n",
      "davies_bouldin-vehicle-one_plus_lambda_all_moves.txt\n",
      "generalized_dunn_13-mfeat_morphological-one_plus_lambda_all_moves.txt\n",
      "dvcb_2-generated_10dim_30cl-one_plus_lambda_all_moves.txt\n",
      "davies_bouldin-generated_10dim_10cl-one_plus_lambda_all_moves.txt\n",
      "generalized_dunn_43-glass-one_plus_lambda_all_moves.txt\n",
      "calinski_harabaz-generated_10dim_10cl-one_plus_lambda_all_moves.txt\n",
      "calinski_harabaz-immunotherapy-one_plus_lambda_all_moves.txt\n",
      "generalized_dunn_51-generated_10dim_30cl-one_plus_lambda_all_moves.txt\n",
      "calinski_harabaz-iris-one_plus_lambda_all_moves.txt\n",
      "dvcb_2-generated_2dim_30cl-one_plus_lambda_all_moves.txt\n",
      "generalized_dunn_51-immunotherapy-one_plus_lambda_all_moves.txt\n",
      "dunn-haberman-one_plus_lambda_all_moves.txt\n",
      "generalized_dunn_53-haberman-one_plus_lambda_all_moves.txt\n",
      "generalized_dunn_53-heart_statlog-one_plus_lambda_all_moves.txt\n",
      "generalized_dunn_13-heart_statlog-one_plus_lambda_all_moves.txt\n",
      "generalized_dunn_53-vehicle-one_plus_lambda_all_moves.txt\n",
      "davies_bouldin-user_knowledge-one_plus_lambda_all_moves.txt\n",
      "generalized_dunn_43-oil_spill-one_plus_lambda_all_moves.txt\n",
      "davies_bouldin-generated_2dim_10cl-one_plus_lambda_all_moves.txt\n",
      "generalized_dunn_43-vehicle-one_plus_lambda_all_moves.txt\n",
      "dvcb_2-mfeat_morphological-one_plus_lambda_all_moves.txt\n"
     ]
    },
    {
     "name": "stdout",
     "output_type": "stream",
     "text": [
      "generalized_dunn_51-generated_2dim_30cl-one_plus_lambda_all_moves.txt\n",
      "generalized_dunn_13-generated_2dim_10cl-one_plus_lambda_all_moves.txt\n"
     ]
    }
   ],
   "source": [
    "results = load_all_files('../results-1pl/')"
   ]
  },
  {
   "cell_type": "code",
   "execution_count": 12,
   "metadata": {},
   "outputs": [
    {
     "name": "stdout",
     "output_type": "stream",
     "text": [
      "(0, 'generalized_dunn_43', 'generated_2dim_30cl', 'one_plus_lambda_all_moves')\n"
     ]
    }
   ],
   "source": [
    "for i, t in enumerate(results):\n",
    "    if t[3].iloc[-1]['n_clusters'] > 35:\n",
    "        print((i,) + t[:3])"
   ]
  },
  {
   "cell_type": "code",
   "execution_count": 11,
   "metadata": {},
   "outputs": [
    {
     "data": {
      "text/plain": [
       "133"
      ]
     },
     "execution_count": 11,
     "metadata": {},
     "output_type": "execute_result"
    }
   ],
   "source": [
    "results = [r for r in results if r[3].iloc[-1]['n_clusters'] < 50]\n",
    "len(results)"
   ]
  },
  {
   "cell_type": "code",
   "execution_count": 24,
   "metadata": {},
   "outputs": [
    {
     "name": "stdout",
     "output_type": "stream",
     "text": [
      "[ 0 24]\n",
      "[ 0 24]\n",
      "[ 0 15 16 24]\n",
      "[ 0 14 15 16 20 22 24]\n",
      "[ 0 14 15 16 24]\n",
      "[ 0 15 16 20]\n",
      "[ 0 24]\n",
      "[ 0 14 15 16 24]\n",
      "[ 0 14 15 16 19 21 22 24]\n",
      "[ 0 14 15 16 20 23]\n",
      "[ 0 16 21 23 24]\n",
      "[ 0 14 15 16 24]\n",
      "[ 0 14 15 16 19 24]\n",
      "[ 0 24]\n",
      "[ 0 14 15 16 19 20]\n",
      "[ 0 24]\n",
      "[ 0 24]\n",
      "[ 0 14 15 16 24]\n",
      "[ 0 24]\n",
      "[ 0 15 16 21]\n",
      "[ 0 14 15 16]\n",
      "[ 0 12 13 14 15 16 24]\n",
      "[ 0 14 15 16 17 18 19 20 21 22 23 24]\n",
      "[ 0 14 15 16 20 22 24]\n",
      "[ 0 20 22 23 24]\n",
      "[ 0 24]\n",
      "[ 0 14 15 16 21 22 23 24]\n",
      "[ 0 11 12 13 14 15 16 19 20 24]\n",
      "[ 0 19 20 21 22 23 24]\n",
      "[ 0 15 16 24]\n",
      "[ 0 14 15 16 21 24]\n",
      "[ 0 14 15 16 21]\n",
      "[ 0 15 19 20 21 22 23 24]\n",
      "[ 0 15 16 23]\n",
      "[ 0 16 20 21 22 23 24]\n",
      "[ 0 14 15 16 24]\n",
      "[ 0 24]\n",
      "[ 0 11 12 13 14 15 16 24]\n",
      "[ 0 14 15 16 20 24]\n",
      "[ 0 15 16 21]\n",
      "[ 0 12 14 15 16]\n",
      "[ 0 15 16 24]\n",
      "[ 0 24]\n",
      "[ 0 24]\n",
      "[ 0 14 15 16 19 24]\n",
      "[ 0 14 15 16 24]\n",
      "[ 0 10 11 12 13 14 15 16 19 20 21 22 23]\n",
      "[ 0 24]\n",
      "[ 0 12 13 14 15 16]\n",
      "[ 0 24]\n",
      "[ 0 24]\n",
      "[ 0 13 14 15 16 23]\n",
      "[ 0 13 14 15 16 22 24]\n",
      "[ 0 14 15 16 21 22 23 24]\n",
      "[ 0 13 14 15 16 19]\n",
      "[ 0 15 16 19 21 23 24]\n",
      "[ 0 13 14 15 16 24]\n",
      "[ 0 11 13 14 15 16]\n",
      "[ 0 15 16 19 20 21 22 23 24]\n",
      "[ 0 15 16]\n",
      "[ 0 24]\n",
      "[ 0 15 16 19]\n",
      "[ 0 15 16 21]\n",
      "[ 0 14 15 16 24]\n",
      "[ 0 14 15 16 24]\n",
      "[ 0 13 14 15 16 21 24]\n",
      "[ 0 10 11 12 13 14 15]\n",
      "[ 0 14 15 16 21]\n",
      "[ 0 16 19 20 21 22 23 24]\n",
      "[ 0 23 24]\n",
      "[ 0 21 22 23 24]\n",
      "[ 0 11 12 13 14 15 16 24]\n",
      "[ 0 15 16 24]\n",
      "[ 0 15 16 24]\n",
      "[ 0 24]\n",
      "[ 0 24]\n",
      "[ 0 24]\n",
      "[ 0 14 15 16]\n",
      "[ 0 14 15 16]\n",
      "[ 0 24]\n",
      "[ 0 13 16 18 19 20 21 23]\n",
      "[ 0 15 16 24]\n",
      "[ 0 11 12 13 14 15 16 23 24]\n",
      "[ 0 19 20 21 22 23 24]\n",
      "[ 0 14 15 16 21 24]\n",
      "[ 0 24]\n",
      "[ 0 24]\n",
      "[ 0 15 16 21]\n",
      "[ 0 19 20 21 22 23 24]\n",
      "[ 0 15 16 20 21 22 23 24]\n",
      "[ 0 13 14 15 16 24]\n",
      "[ 0 14 15 16 22]\n",
      "[ 0 14 15 16]\n",
      "[ 0 15 16 22 24]\n",
      "[ 0 14 15 16 24]\n",
      "[ 0 23 24]\n",
      "[ 0 14 15 16 19 20 21 22 23 24]\n",
      "[ 0 14 15 16]\n",
      "[ 0 24]\n",
      "[ 0 14 15 16 24]\n",
      "[ 0 22 24]\n",
      "[ 0 13 14 15 16 20]\n",
      "[ 0 24]\n",
      "[ 0 13 14 15 16 24]\n",
      "[ 0 15 16 23]\n",
      "[ 0 24]\n",
      "[ 0 13 14 15 16 17 18 19 20 21 22 24]\n",
      "[ 0 14 15 16 24]\n",
      "[ 0 15 16 24]\n",
      "[ 0 24]\n",
      "[ 0 14 15 16 20 22 23]\n",
      "[ 0 24]\n",
      "[ 0 24]\n",
      "[ 0 24]\n",
      "[ 0 14 15 16 19 24]\n",
      "[ 0 24]\n",
      "[ 0 16 19 20 21 22 23 24]\n",
      "[ 0 15 16 23 24]\n",
      "[ 0 19 20 21 22 23 24]\n",
      "[ 0 24]\n",
      "[ 0 14 15 16 22]\n",
      "[ 0 13 14 15 16]\n",
      "[ 0 13 14 15 16]\n",
      "[ 0 13 14 15 16]\n",
      "[ 0 15 16 24]\n",
      "[ 0 14 15 16 23]\n",
      "[ 0 14 15 16 23 24]\n",
      "[ 0 14 16 21 22 23 24]\n",
      "[ 0 23 24]\n",
      "[ 0 13 14 15 16 24]\n",
      "[ 0 24]\n",
      "[ 0 15 16 21 24]\n",
      "[ 0 15 16 24]\n"
     ]
    }
   ],
   "source": [
    "for r in results:\n",
    "    r[3]['mutation_name'] = [s[:s.find(':')] if s is not None else s for s in r[3]['detail']]\n",
    "    print(np.unique(np.bincount(r[3].index[1:])))"
   ]
  },
  {
   "cell_type": "code",
   "execution_count": 27,
   "metadata": {},
   "outputs": [
    {
     "data": {
      "text/plain": [
       "array(['centroid_hill_climbing_move', 'expand_cluster_move',\n",
       "       'guided_eliminate_move(density_based_sparseness_separation)',\n",
       "       'guided_eliminate_move(density_based_validity_separation)',\n",
       "       'guided_eliminate_move(diameter_separation)',\n",
       "       'guided_eliminate_move(mean_centroid_distance_separation)',\n",
       "       'guided_merge_gene_move(centroid_distance_cohesion)',\n",
       "       'guided_merge_gene_move(density_based_separation_cohesion)',\n",
       "       'guided_remove_and_reclassify_move(density_based_sparseness_separation)',\n",
       "       'guided_remove_and_reclassify_move(density_based_validity_separation)',\n",
       "       'guided_remove_and_reclassify_move(diameter_separation)',\n",
       "       'guided_remove_and_reclassify_move(mean_centroid_distance_separation)',\n",
       "       'guided_split_gene_move(density_based_sparseness_separation)',\n",
       "       'guided_split_gene_move(density_based_validity_separation)',\n",
       "       'guided_split_gene_move(diameter_separation)',\n",
       "       'guided_split_gene_move(mean_centroid_distance_separation)',\n",
       "       'knn_reclassification_move', 'one_nth_change_move',\n",
       "       'prototype_hill_climbing_move', 'split_farthest_move',\n",
       "       'unguided_eliminate_move', 'unguided_merge_gene_move',\n",
       "       'unguided_remove_and_reclassify_move', 'unguided_split_gene_move'],\n",
       "      dtype=object)"
      ]
     },
     "execution_count": 27,
     "metadata": {},
     "output_type": "execute_result"
    }
   ],
   "source": [
    "mutation_names = np.unique(results[0][3]['mutation_name'])[1:]\n",
    "mutation_names"
   ]
  },
  {
   "cell_type": "code",
   "execution_count": 30,
   "metadata": {},
   "outputs": [],
   "source": [
    "for t in results:\n",
    "    mut_indices = np.argwhere(t[3]['mutation_name'][:, None] == mutation_names[None, :])[:, 1]\n",
    "    assert len(mut_indices) == len(t[3]) - 1\n",
    "    t[3]['mutation_index'] = np.hstack([[-1], mut_indices])"
   ]
  },
  {
   "cell_type": "code",
   "execution_count": 54,
   "metadata": {},
   "outputs": [],
   "source": [
    "tables = []\n",
    "for r in results:\n",
    "    index_series = [t['index'].rename(mutation_names[i] + '_index') for i, t in r[3][['mutation_index', 'index']].groupby('mutation_index')]\n",
    "    tables.append(pd.concat(index_series, axis=1).values)"
   ]
  },
  {
   "cell_type": "code",
   "execution_count": 69,
   "metadata": {},
   "outputs": [],
   "source": [
    "mut_indices = []\n",
    "for r in tables:\n",
    "    max_indices = np.nanargmax(r, axis=1)\n",
    "    max_values = np.nanmax(r, axis=1)\n",
    "    change_steps = np.argwhere(max_values[1:] > max_values[:-1]).flatten() + 1\n",
    "    mut_indices.append(max_indices[change_steps] - 1)"
   ]
  },
  {
   "cell_type": "code",
   "execution_count": 76,
   "metadata": {},
   "outputs": [],
   "source": [
    "mut_flags = []\n",
    "for r in mut_indices:\n",
    "    flags = np.zeros(len(mutation_names), dtype='bool')\n",
    "    flags[r] = True\n",
    "    mut_flags.append(flags)\n",
    "mut_flags = np.array(mut_flags)"
   ]
  },
  {
   "cell_type": "code",
   "execution_count": 85,
   "metadata": {},
   "outputs": [
    {
     "data": {
      "text/plain": [
       "array([71, 37, 45, 43, 36, 29, 23, 21, 29, 32, 37, 26, 20, 25, 28, 30, 19,\n",
       "       26, 55, 32, 24, 18, 30, 12])"
      ]
     },
     "execution_count": 85,
     "metadata": {},
     "output_type": "execute_result"
    }
   ],
   "source": [
    "mut_flags.sum(axis=0)"
   ]
  }
 ],
 "metadata": {
  "kernelspec": {
   "display_name": "Python 3",
   "language": "python",
   "name": "python3"
  },
  "language_info": {
   "codemirror_mode": {
    "name": "ipython",
    "version": 3
   },
   "file_extension": ".py",
   "mimetype": "text/x-python",
   "name": "python",
   "nbconvert_exporter": "python",
   "pygments_lexer": "ipython3",
   "version": "3.7.2"
  }
 },
 "nbformat": 4,
 "nbformat_minor": 2
}
